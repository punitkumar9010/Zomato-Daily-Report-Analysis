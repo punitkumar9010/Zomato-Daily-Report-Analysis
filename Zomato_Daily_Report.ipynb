{
 "cells": [
  {
   "cell_type": "markdown",
   "metadata": {},
   "source": [
    "# Zomato Daily Report Analysis"
   ]
  },
  {
   "cell_type": "markdown",
   "metadata": {},
   "source": [
    "#### Objective: This is an exemplary analysis of chat taken by the exicutives to resolve the concern rasied by Zomato application users. "
   ]
  },
  {
   "cell_type": "code",
   "execution_count": 1,
   "metadata": {},
   "outputs": [],
   "source": [
    "import pandas as pd\n",
    "import random\n",
    "import numpy as np"
   ]
  },
  {
   "cell_type": "code",
   "execution_count": 2,
   "metadata": {},
   "outputs": [],
   "source": [
    "pd.set_option('display.width', 1000)\n",
    "pd.set_option('display.max_columns', 50)\n",
    "pd.set_option('display.max_rows', 20)\n",
    "pd.set_option('display.min_rows', 20)\n",
    "pd.set_option('max_colwidth', 50)"
   ]
  },
  {
   "cell_type": "code",
   "execution_count": 3,
   "metadata": {},
   "outputs": [],
   "source": [
    "zdr = pd.read_excel(\"C:\\\\Users\\\\punit\\\\Desktop\\\\Zomato_Daily_Report.xlsx\")"
   ]
  },
  {
   "cell_type": "code",
   "execution_count": 4,
   "metadata": {},
   "outputs": [
    {
     "data": {
      "text/html": [
       "<div>\n",
       "<style scoped>\n",
       "    .dataframe tbody tr th:only-of-type {\n",
       "        vertical-align: middle;\n",
       "    }\n",
       "\n",
       "    .dataframe tbody tr th {\n",
       "        vertical-align: top;\n",
       "    }\n",
       "\n",
       "    .dataframe thead th {\n",
       "        text-align: right;\n",
       "    }\n",
       "</style>\n",
       "<table border=\"1\" class=\"dataframe\">\n",
       "  <thead>\n",
       "    <tr style=\"text-align: right;\">\n",
       "      <th></th>\n",
       "      <th>convo_id</th>\n",
       "      <th>session_id</th>\n",
       "      <th>assigned_at</th>\n",
       "      <th>resolved_at</th>\n",
       "      <th>chat_for</th>\n",
       "      <th>assigned_to</th>\n",
       "      <th>frt</th>\n",
       "      <th>good_irs</th>\n",
       "      <th>total_irs</th>\n",
       "      <th>lrt</th>\n",
       "      <th>lrt_time</th>\n",
       "      <th>Resolve_Hold</th>\n",
       "      <th>resolution_tag</th>\n",
       "      <th>csat</th>\n",
       "      <th>rated_at</th>\n",
       "      <th>tags</th>\n",
       "      <th>Order_ID</th>\n",
       "      <th>res_name</th>\n",
       "    </tr>\n",
       "  </thead>\n",
       "  <tbody>\n",
       "    <tr>\n",
       "      <td>0</td>\n",
       "      <td>72933357</td>\n",
       "      <td>-Lsl_g7_u-c63FcVT4DH</td>\n",
       "      <td>5/18/2020 0:04</td>\n",
       "      <td>5/18/2020 0:08</td>\n",
       "      <td>India</td>\n",
       "      <td>abhishek.A1016100@jindalx.com</td>\n",
       "      <td>46.0</td>\n",
       "      <td>3</td>\n",
       "      <td>3</td>\n",
       "      <td>3.0</td>\n",
       "      <td>5/18/2020 0:08</td>\n",
       "      <td>Resolve</td>\n",
       "      <td>No Label</td>\n",
       "      <td>NaN</td>\n",
       "      <td>NaN</td>\n",
       "      <td>Order Status</td>\n",
       "      <td>1970202652</td>\n",
       "      <td>The Biryani Life</td>\n",
       "    </tr>\n",
       "    <tr>\n",
       "      <td>1</td>\n",
       "      <td>48126604</td>\n",
       "      <td>NaN</td>\n",
       "      <td>5/18/2020 0:04</td>\n",
       "      <td>5/18/2020 0:08</td>\n",
       "      <td>India</td>\n",
       "      <td>sudhir.A1015684@jindalx.com</td>\n",
       "      <td>12.0</td>\n",
       "      <td>5</td>\n",
       "      <td>5</td>\n",
       "      <td>2.0</td>\n",
       "      <td>5/18/2020 0:08</td>\n",
       "      <td>Resolve</td>\n",
       "      <td>No Label</td>\n",
       "      <td>CSAT</td>\n",
       "      <td>5/18/2020 0:08</td>\n",
       "      <td>Packaging issue</td>\n",
       "      <td>1982793617</td>\n",
       "      <td>Subway</td>\n",
       "    </tr>\n",
       "    <tr>\n",
       "      <td>2</td>\n",
       "      <td>54656428</td>\n",
       "      <td>NaN</td>\n",
       "      <td>5/18/2020 0:04</td>\n",
       "      <td>5/18/2020 0:08</td>\n",
       "      <td>UAE</td>\n",
       "      <td>Pooja.A1003397@intellicomcenters.com</td>\n",
       "      <td>8.0</td>\n",
       "      <td>9</td>\n",
       "      <td>9</td>\n",
       "      <td>1.0</td>\n",
       "      <td>5/18/2020 0:08</td>\n",
       "      <td>Resolve</td>\n",
       "      <td>No Label</td>\n",
       "      <td>NaN</td>\n",
       "      <td>NaN</td>\n",
       "      <td>NaN</td>\n",
       "      <td></td>\n",
       "      <td>NaN</td>\n",
       "    </tr>\n",
       "    <tr>\n",
       "      <td>3</td>\n",
       "      <td>165621642</td>\n",
       "      <td>NaN</td>\n",
       "      <td>5/18/2020 0:06</td>\n",
       "      <td>5/18/2020 0:12</td>\n",
       "      <td>India</td>\n",
       "      <td>asim.A1013904@intellicomcenters.com</td>\n",
       "      <td>14.0</td>\n",
       "      <td>3</td>\n",
       "      <td>4</td>\n",
       "      <td>2.0</td>\n",
       "      <td>5/18/2020 0:12</td>\n",
       "      <td>Resolve</td>\n",
       "      <td>No Label</td>\n",
       "      <td>CSAT</td>\n",
       "      <td>5/18/2020 0:12</td>\n",
       "      <td>NaN</td>\n",
       "      <td></td>\n",
       "      <td>NaN</td>\n",
       "    </tr>\n",
       "    <tr>\n",
       "      <td>4</td>\n",
       "      <td>125475522</td>\n",
       "      <td>NaN</td>\n",
       "      <td>5/18/2020 0:07</td>\n",
       "      <td>5/18/2020 0:16</td>\n",
       "      <td>India</td>\n",
       "      <td>puneet.A1016939@jindalx.com</td>\n",
       "      <td>14.0</td>\n",
       "      <td>9</td>\n",
       "      <td>9</td>\n",
       "      <td>14.0</td>\n",
       "      <td>5/18/2020 0:16</td>\n",
       "      <td>Resolve</td>\n",
       "      <td>No Label</td>\n",
       "      <td>CSAT</td>\n",
       "      <td>5/18/2020 0:17</td>\n",
       "      <td>Paytm Refund Issues,Wallet Issue,Wrong Order,O...</td>\n",
       "      <td>1762937125176290073296919495936957218816</td>\n",
       "      <td>24 Hrs. Tawa V/S Tandoor,24 Hrs. Tawa V/S Tand...</td>\n",
       "    </tr>\n",
       "  </tbody>\n",
       "</table>\n",
       "</div>"
      ],
      "text/plain": [
       "    convo_id            session_id     assigned_at     resolved_at chat_for                           assigned_to   frt  good_irs  total_irs   lrt        lrt_time Resolve_Hold resolution_tag  csat        rated_at                                               tags                                  Order_ID                                           res_name\n",
       "0   72933357  -Lsl_g7_u-c63FcVT4DH  5/18/2020 0:04  5/18/2020 0:08    India         abhishek.A1016100@jindalx.com  46.0         3          3   3.0  5/18/2020 0:08      Resolve       No Label   NaN             NaN                                       Order Status                                1970202652                                   The Biryani Life\n",
       "1   48126604                   NaN  5/18/2020 0:04  5/18/2020 0:08    India           sudhir.A1015684@jindalx.com  12.0         5          5   2.0  5/18/2020 0:08      Resolve       No Label  CSAT  5/18/2020 0:08                                    Packaging issue                                1982793617                                             Subway\n",
       "2   54656428                   NaN  5/18/2020 0:04  5/18/2020 0:08      UAE  Pooja.A1003397@intellicomcenters.com   8.0         9          9   1.0  5/18/2020 0:08      Resolve       No Label   NaN             NaN                                                NaN                                                                                          NaN\n",
       "3  165621642                   NaN  5/18/2020 0:06  5/18/2020 0:12    India   asim.A1013904@intellicomcenters.com  14.0         3          4   2.0  5/18/2020 0:12      Resolve       No Label  CSAT  5/18/2020 0:12                                                NaN                                                                                          NaN\n",
       "4  125475522                   NaN  5/18/2020 0:07  5/18/2020 0:16    India           puneet.A1016939@jindalx.com  14.0         9          9  14.0  5/18/2020 0:16      Resolve       No Label  CSAT  5/18/2020 0:17  Paytm Refund Issues,Wallet Issue,Wrong Order,O...  1762937125176290073296919495936957218816  24 Hrs. Tawa V/S Tandoor,24 Hrs. Tawa V/S Tand..."
      ]
     },
     "execution_count": 4,
     "metadata": {},
     "output_type": "execute_result"
    }
   ],
   "source": [
    "# each row represents a single talk\n",
    "zdr.head()"
   ]
  },
  {
   "cell_type": "code",
   "execution_count": 5,
   "metadata": {},
   "outputs": [
    {
     "name": "stdout",
     "output_type": "stream",
     "text": [
      "<class 'pandas.core.frame.DataFrame'>\n",
      "RangeIndex: 11554 entries, 0 to 11553\n",
      "Data columns (total 18 columns):\n",
      "convo_id          11554 non-null object\n",
      "session_id        636 non-null object\n",
      "assigned_at       11554 non-null object\n",
      "resolved_at       11554 non-null object\n",
      "chat_for          11554 non-null object\n",
      "assigned_to       11554 non-null object\n",
      "frt               10583 non-null float64\n",
      "good_irs          11554 non-null int64\n",
      "total_irs         11554 non-null int64\n",
      "lrt               11431 non-null float64\n",
      "lrt_time          11431 non-null object\n",
      "Resolve_Hold      11554 non-null object\n",
      "resolution_tag    11530 non-null object\n",
      "csat              4844 non-null object\n",
      "rated_at          4844 non-null object\n",
      "tags              9460 non-null object\n",
      "Order_ID          11554 non-null object\n",
      "res_name          9465 non-null object\n",
      "dtypes: float64(2), int64(2), object(14)\n",
      "memory usage: 1.6+ MB\n"
     ]
    }
   ],
   "source": [
    "# data types of all the column, object columns are usually strings, but can also be arbitrary Python objects(lists,dictionaries)\n",
    "zdr.info()"
   ]
  },
  {
   "cell_type": "code",
   "execution_count": 6,
   "metadata": {},
   "outputs": [
    {
     "data": {
      "text/plain": [
       "convo_id              0\n",
       "session_id        10918\n",
       "assigned_at           0\n",
       "resolved_at           0\n",
       "chat_for              0\n",
       "assigned_to           0\n",
       "frt                 971\n",
       "good_irs              0\n",
       "total_irs             0\n",
       "lrt                 123\n",
       "lrt_time            123\n",
       "Resolve_Hold          0\n",
       "resolution_tag       24\n",
       "csat               6710\n",
       "rated_at           6710\n",
       "tags               2094\n",
       "Order_ID              0\n",
       "res_name           2089\n",
       "dtype: int64"
      ]
     },
     "execution_count": 6,
     "metadata": {},
     "output_type": "execute_result"
    }
   ],
   "source": [
    "# count the number of missing values in each column\n",
    "zdr.isnull().sum()"
   ]
  },
  {
   "cell_type": "markdown",
   "metadata": {},
   "source": [
    "## Data Cleaning"
   ]
  },
  {
   "cell_type": "code",
   "execution_count": 7,
   "metadata": {},
   "outputs": [],
   "source": [
    "# dropping the columns which are not providing any insight for exemplary analysis\n",
    "zdr.drop(['session_id', 'rated_at', 'res_name'], axis=1, inplace=True)"
   ]
  },
  {
   "cell_type": "code",
   "execution_count": 8,
   "metadata": {},
   "outputs": [],
   "source": [
    "# droping null values from few columns\n",
    "zdr.dropna(subset=['frt', 'lrt'], inplace=True)"
   ]
  },
  {
   "cell_type": "code",
   "execution_count": 9,
   "metadata": {},
   "outputs": [],
   "source": [
    "# changed column name, replaced few long onjects into smaller one, in more readable and easy to analyse style\n",
    "zdr['csat_dsat'] = zdr['csat'].apply(lambda x: str(x).replace('I want to chat with a support executive', 'DSAT').replace(\"No, this wasn't helpful\", 'DSAT'))\n",
    "zdr.drop(['csat'], axis=1, inplace=True)"
   ]
  },
  {
   "cell_type": "code",
   "execution_count": 10,
   "metadata": {},
   "outputs": [],
   "source": [
    "# extracting the extra characters from the rows of assigned_to column\n",
    "zdr['assigned_to'] = zdr['assigned_to'].str.split('@', n = 1, expand = True)[0]"
   ]
  },
  {
   "cell_type": "code",
   "execution_count": 11,
   "metadata": {},
   "outputs": [],
   "source": [
    "# converting objects into datetime format\n",
    "zdr[[\"assigned_at\", \"resolved_at\", \"lrt_time\"]] = zdr[[\"assigned_at\", \"resolved_at\", \"lrt_time\"]].apply(pd.to_datetime)"
   ]
  },
  {
   "cell_type": "code",
   "execution_count": 12,
   "metadata": {},
   "outputs": [],
   "source": [
    "# we don't need resolved_at and assigned_at columns but we need difference of these colmuns to get avg handling time(aht)\n",
    "zdr['aht'] = zdr['resolved_at'] - zdr['assigned_at'] "
   ]
  },
  {
   "cell_type": "code",
   "execution_count": 13,
   "metadata": {},
   "outputs": [],
   "source": [
    "# taking out the key content out of each row in aht column\n",
    "zdr['aht'] = zdr['aht'].dt.components['minutes']"
   ]
  },
  {
   "cell_type": "code",
   "execution_count": 14,
   "metadata": {},
   "outputs": [],
   "source": [
    "# now we are dropping these columns as we have got what we need\n",
    "zdr.drop([\"assigned_at\", \"resolved_at\", \"lrt_time\"], axis=1, inplace=True)"
   ]
  },
  {
   "cell_type": "code",
   "execution_count": 15,
   "metadata": {},
   "outputs": [],
   "source": [
    "# though we don't require Order_ID for our analysis but this column's values are seprated by commas which ultimately form more columns in that row\n",
    "zdr['Order_ID'] = zdr['Order_ID'].apply(lambda x: str(x).replace(',', ''))\n",
    "zdr['Order_ID'] = zdr['Order_ID'].map(lambda x: x[0:11])\n",
    "zdr.drop(['Order_ID'], axis=1, inplace=True)"
   ]
  },
  {
   "cell_type": "code",
   "execution_count": 16,
   "metadata": {},
   "outputs": [],
   "source": [
    "# converting the data type of few columns\n",
    "zdr['frt'] = zdr['frt'].astype('int64')\n",
    "zdr['lrt'] = zdr['lrt'].astype('int64')"
   ]
  },
  {
   "cell_type": "code",
   "execution_count": 17,
   "metadata": {},
   "outputs": [],
   "source": [
    "# cleaning the tags column\n",
    "zdr['tags'] = np.where(zdr['tags'].isnull(), False, True)"
   ]
  },
  {
   "cell_type": "code",
   "execution_count": 18,
   "metadata": {},
   "outputs": [],
   "source": [
    "# for in-depth analysis of this column, we are taking out two columns \n",
    "zdr['chat_type'] = zdr['chat_for'].apply(lambda x: str(x).replace('India', 'Food').replace('UAE', 'Food').replace('Lebanon', 'Food'))"
   ]
  },
  {
   "cell_type": "code",
   "execution_count": 19,
   "metadata": {},
   "outputs": [],
   "source": [
    "zdr['country'] = zdr['chat_for'].apply(lambda x: str(x).replace('Grocery', 'India').replace('UberEats', 'India').replace('callback', 'India'))"
   ]
  },
  {
   "cell_type": "code",
   "execution_count": 20,
   "metadata": {},
   "outputs": [],
   "source": [
    "# now there is not need of this column as we have extracted the requied data into other columns\n",
    "zdr.drop(['chat_for'], axis=1, inplace=True)"
   ]
  },
  {
   "cell_type": "code",
   "execution_count": 21,
   "metadata": {},
   "outputs": [],
   "source": [
    "# irs can be analysed better with it's bifurcation\n",
    "zdr['irs_bifurcation'] = zdr['good_irs']/zdr['total_irs']"
   ]
  },
  {
   "cell_type": "code",
   "execution_count": 22,
   "metadata": {},
   "outputs": [],
   "source": [
    "# now we have better parameter to analyse irs\n",
    "zdr.drop(['good_irs', 'total_irs'], axis=1, inplace=True)"
   ]
  },
  {
   "cell_type": "code",
   "execution_count": 23,
   "metadata": {},
   "outputs": [],
   "source": [
    "# dropping the special character from the object\n",
    "zdr['convo_id'] = zdr['convo_id'].apply(lambda x: str(x).replace('-', ''))"
   ]
  },
  {
   "cell_type": "code",
   "execution_count": 24,
   "metadata": {},
   "outputs": [],
   "source": [
    "# few values are mixed of numbers and alphabets, so we will coerce the values and the replace null values with random value fro the column\n",
    "random_values = random.randint(2000,2800)\n",
    "zdr['convo_id'] = pd.to_numeric(zdr['convo_id'], errors='coerce').fillna(random_values).astype('int64')"
   ]
  },
  {
   "cell_type": "code",
   "execution_count": 25,
   "metadata": {},
   "outputs": [],
   "source": [
    "# renaming all the columns in understandable names\n",
    "zdr.rename(columns = {'convo_id':'Convo_ID', 'assigned_to':'Assigned_To', 'frt':'FRT', 'irs_bifurcation':'IRS_Bifurcation', 'lrt': 'LRT', 'aht':'AHT', 'csat_dsat':'CSAT_DSAT', 'Resolve_Hold':'Resolve_Hold', 'resolution_tag':'Resolution_Tag', 'tags': 'Cx_Issues_Tag', 'chat_type':'Chat_Type', 'country':'Country' }, inplace = True)"
   ]
  },
  {
   "cell_type": "code",
   "execution_count": 26,
   "metadata": {},
   "outputs": [],
   "source": [
    "# rearranging the sequence of the columns\n",
    "zdr = zdr[['Convo_ID', 'Assigned_To', 'FRT', 'IRS_Bifurcation', 'LRT', 'AHT', 'CSAT_DSAT', 'Resolve_Hold', 'Resolution_Tag', 'Cx_Issues_Tag', 'Chat_Type', 'Country']]"
   ]
  },
  {
   "cell_type": "code",
   "execution_count": 27,
   "metadata": {},
   "outputs": [
    {
     "data": {
      "text/html": [
       "<div>\n",
       "<style scoped>\n",
       "    .dataframe tbody tr th:only-of-type {\n",
       "        vertical-align: middle;\n",
       "    }\n",
       "\n",
       "    .dataframe tbody tr th {\n",
       "        vertical-align: top;\n",
       "    }\n",
       "\n",
       "    .dataframe thead th {\n",
       "        text-align: right;\n",
       "    }\n",
       "</style>\n",
       "<table border=\"1\" class=\"dataframe\">\n",
       "  <thead>\n",
       "    <tr style=\"text-align: right;\">\n",
       "      <th></th>\n",
       "      <th>Convo_ID</th>\n",
       "      <th>Assigned_To</th>\n",
       "      <th>FRT</th>\n",
       "      <th>IRS_Bifurcation</th>\n",
       "      <th>LRT</th>\n",
       "      <th>AHT</th>\n",
       "      <th>CSAT_DSAT</th>\n",
       "      <th>Resolve_Hold</th>\n",
       "      <th>Resolution_Tag</th>\n",
       "      <th>Cx_Issues_Tag</th>\n",
       "      <th>Chat_Type</th>\n",
       "      <th>Country</th>\n",
       "    </tr>\n",
       "  </thead>\n",
       "  <tbody>\n",
       "    <tr>\n",
       "      <td>0</td>\n",
       "      <td>72933357</td>\n",
       "      <td>abhishek.A1016100</td>\n",
       "      <td>46</td>\n",
       "      <td>1.00</td>\n",
       "      <td>3</td>\n",
       "      <td>4</td>\n",
       "      <td>nan</td>\n",
       "      <td>Resolve</td>\n",
       "      <td>No Label</td>\n",
       "      <td>True</td>\n",
       "      <td>Food</td>\n",
       "      <td>India</td>\n",
       "    </tr>\n",
       "    <tr>\n",
       "      <td>1</td>\n",
       "      <td>48126604</td>\n",
       "      <td>sudhir.A1015684</td>\n",
       "      <td>12</td>\n",
       "      <td>1.00</td>\n",
       "      <td>2</td>\n",
       "      <td>4</td>\n",
       "      <td>CSAT</td>\n",
       "      <td>Resolve</td>\n",
       "      <td>No Label</td>\n",
       "      <td>True</td>\n",
       "      <td>Food</td>\n",
       "      <td>India</td>\n",
       "    </tr>\n",
       "    <tr>\n",
       "      <td>2</td>\n",
       "      <td>54656428</td>\n",
       "      <td>Pooja.A1003397</td>\n",
       "      <td>8</td>\n",
       "      <td>1.00</td>\n",
       "      <td>1</td>\n",
       "      <td>4</td>\n",
       "      <td>nan</td>\n",
       "      <td>Resolve</td>\n",
       "      <td>No Label</td>\n",
       "      <td>False</td>\n",
       "      <td>Food</td>\n",
       "      <td>UAE</td>\n",
       "    </tr>\n",
       "    <tr>\n",
       "      <td>3</td>\n",
       "      <td>165621642</td>\n",
       "      <td>asim.A1013904</td>\n",
       "      <td>14</td>\n",
       "      <td>0.75</td>\n",
       "      <td>2</td>\n",
       "      <td>6</td>\n",
       "      <td>CSAT</td>\n",
       "      <td>Resolve</td>\n",
       "      <td>No Label</td>\n",
       "      <td>False</td>\n",
       "      <td>Food</td>\n",
       "      <td>India</td>\n",
       "    </tr>\n",
       "    <tr>\n",
       "      <td>4</td>\n",
       "      <td>125475522</td>\n",
       "      <td>puneet.A1016939</td>\n",
       "      <td>14</td>\n",
       "      <td>1.00</td>\n",
       "      <td>14</td>\n",
       "      <td>9</td>\n",
       "      <td>CSAT</td>\n",
       "      <td>Resolve</td>\n",
       "      <td>No Label</td>\n",
       "      <td>True</td>\n",
       "      <td>Food</td>\n",
       "      <td>India</td>\n",
       "    </tr>\n",
       "  </tbody>\n",
       "</table>\n",
       "</div>"
      ],
      "text/plain": [
       "    Convo_ID        Assigned_To  FRT  IRS_Bifurcation  LRT  AHT CSAT_DSAT Resolve_Hold Resolution_Tag  Cx_Issues_Tag Chat_Type Country\n",
       "0   72933357  abhishek.A1016100   46             1.00    3    4       nan      Resolve       No Label           True      Food   India\n",
       "1   48126604    sudhir.A1015684   12             1.00    2    4      CSAT      Resolve       No Label           True      Food   India\n",
       "2   54656428     Pooja.A1003397    8             1.00    1    4       nan      Resolve       No Label          False      Food     UAE\n",
       "3  165621642      asim.A1013904   14             0.75    2    6      CSAT      Resolve       No Label          False      Food   India\n",
       "4  125475522    puneet.A1016939   14             1.00   14    9      CSAT      Resolve       No Label           True      Food   India"
      ]
     },
     "execution_count": 27,
     "metadata": {},
     "output_type": "execute_result"
    }
   ],
   "source": [
    "# data after cleaning\n",
    "zdr.head()"
   ]
  },
  {
   "cell_type": "markdown",
   "metadata": {},
   "source": [
    "1. Convo_ID: ID for conversation between customer and executive\n",
    "2. Assigned_To: These are the unique ID for all the executives taking the chat with customers\n",
    "3. FRT: FRT is first response time which means, the very moment when cx arrives at chat and then first reply given to the cx.\n",
    "4. IRS_Bifurcation: IRS is intermediate response time. Bifercation is of good IRS to total IRS i.e no of replies which are        given in time to customer's query and the total no of replies given to the customer in the whole conversation.\n",
    "5. LRT: Last response time(LRT). This is the last reply given before the executive resolve the chat.\n",
    "6. AHT: Average handling time(AHT). AHT helps to give is the time in which sum of all the time taken by each executive to take    the chat to the total no of chat taken.\n",
    "7. CSAT_DSAT: This parameter is to see the experience given to the customer who come to chat. Customer review by pressing the      customer's satisfaction or dissatisfaction botton. \n",
    "8. Resolve_Hold: When executive finish the chat then he/she got two options resolve or hold.\n",
    "9. Resolution_Tag: This gives us the overview of the chat type.\n",
    "10. Cx_Issues_Tag: This will tell us the type of the customers issue.\n",
    "11. Chat_Type: It helps us to know which type of delivery is more entertained by the delivery person.\n",
    "12. Country: This column helps us to get insight of customer's country."
   ]
  },
  {
   "cell_type": "markdown",
   "metadata": {},
   "source": [
    "## Data Analysis"
   ]
  },
  {
   "cell_type": "markdown",
   "metadata": {},
   "source": [
    "#### 1. Customer who had a chat while logged-in vs offline"
   ]
  },
  {
   "cell_type": "code",
   "execution_count": 28,
   "metadata": {},
   "outputs": [],
   "source": [
    "cx_offline = (zdr['Convo_ID'] == random_values).sum(axis=0)"
   ]
  },
  {
   "cell_type": "code",
   "execution_count": 29,
   "metadata": {},
   "outputs": [],
   "source": [
    "cx_logged_in = (zdr['Convo_ID'] != random_values).sum(axis=0)"
   ]
  },
  {
   "cell_type": "code",
   "execution_count": 30,
   "metadata": {},
   "outputs": [],
   "source": [
    "normalized_value = (cx_offline/cx_logged_in)"
   ]
  },
  {
   "cell_type": "code",
   "execution_count": 31,
   "metadata": {},
   "outputs": [
    {
     "name": "stdout",
     "output_type": "stream",
     "text": [
      "Number of customers chat while logged-in: 10506\n",
      "Number of customers chat while offline: 59\n",
      "Normalized value of customer offline to logged-in: 0.005615838568437084\n"
     ]
    }
   ],
   "source": [
    "print('Number of customers chat while logged-in:', cx_logged_in)\n",
    "print('Number of customers chat while offline:', cx_offline)\n",
    "print('Normalized value of customer offline to logged-in:', normalized_value)"
   ]
  },
  {
   "cell_type": "markdown",
   "metadata": {},
   "source": [
    "#### 2. Executives who are taking less number of chats in whole day"
   ]
  },
  {
   "cell_type": "code",
   "execution_count": 32,
   "metadata": {},
   "outputs": [],
   "source": [
    "# number of chats taken by executives\n",
    "chats_per_executive = zdr.Assigned_To.value_counts()"
   ]
  },
  {
   "cell_type": "code",
   "execution_count": 33,
   "metadata": {},
   "outputs": [],
   "source": [
    "# mean of the total chat taken on the given day\n",
    "chats_mean = ((zdr.groupby('Assigned_To').size()).mean())/2"
   ]
  },
  {
   "cell_type": "code",
   "execution_count": 34,
   "metadata": {},
   "outputs": [
    {
     "data": {
      "text/plain": [
       "aman.A1013896             19\n",
       "ashwani.A1016887          19\n",
       "bulbul.A1007204           19\n",
       "jahanvi.A1013582          18\n",
       "sandip.A1015909           18\n",
       "lakshya.A1010469          17\n",
       "sachin.A1010829           17\n",
       "pooja.A1013766            17\n",
       "sudhir.A1015684           17\n",
       "rohit.A1011179            16\n",
       "                          ..\n",
       "junaid.A1016702            1\n",
       "sonam.A1007843             1\n",
       "prince.A1013769            1\n",
       "inderbakshish.A1014297     1\n",
       "sukhpreet.A1016919         1\n",
       "aditya.A1014479            1\n",
       "mansi.A1016709             1\n",
       "rahul.A1016715             1\n",
       "ashish.A1009187            1\n",
       "trivendra.A1010756         1\n",
       "Name: Assigned_To, Length: 79, dtype: int64"
      ]
     },
     "execution_count": 34,
     "metadata": {},
     "output_type": "execute_result"
    }
   ],
   "source": [
    "# executives who have taken chats less the half of the mean of the day\n",
    "chats_per_executive[chats_per_executive < chats_mean]"
   ]
  },
  {
   "cell_type": "markdown",
   "metadata": {},
   "source": [
    "#### 3. Executive who are defaulters in giving first response to customers on chat"
   ]
  },
  {
   "cell_type": "code",
   "execution_count": 35,
   "metadata": {},
   "outputs": [
    {
     "data": {
      "text/html": [
       "<div>\n",
       "<style scoped>\n",
       "    .dataframe tbody tr th:only-of-type {\n",
       "        vertical-align: middle;\n",
       "    }\n",
       "\n",
       "    .dataframe tbody tr th {\n",
       "        vertical-align: top;\n",
       "    }\n",
       "\n",
       "    .dataframe thead th {\n",
       "        text-align: right;\n",
       "    }\n",
       "</style>\n",
       "<table border=\"1\" class=\"dataframe\">\n",
       "  <thead>\n",
       "    <tr style=\"text-align: right;\">\n",
       "      <th></th>\n",
       "      <th>max</th>\n",
       "    </tr>\n",
       "    <tr>\n",
       "      <th>Assigned_To</th>\n",
       "      <th></th>\n",
       "    </tr>\n",
       "  </thead>\n",
       "  <tbody>\n",
       "    <tr>\n",
       "      <td>naveen.A1007643</td>\n",
       "      <td>132</td>\n",
       "    </tr>\n",
       "    <tr>\n",
       "      <td>shubham.A1005192</td>\n",
       "      <td>134</td>\n",
       "    </tr>\n",
       "    <tr>\n",
       "      <td>Rohit.A1003305</td>\n",
       "      <td>135</td>\n",
       "    </tr>\n",
       "    <tr>\n",
       "      <td>durgesh.A1015969</td>\n",
       "      <td>136</td>\n",
       "    </tr>\n",
       "    <tr>\n",
       "      <td>nikita.A1016907</td>\n",
       "      <td>137</td>\n",
       "    </tr>\n",
       "    <tr>\n",
       "      <td>kshitij.A1006984</td>\n",
       "      <td>139</td>\n",
       "    </tr>\n",
       "    <tr>\n",
       "      <td>Ankit.A1016417</td>\n",
       "      <td>141</td>\n",
       "    </tr>\n",
       "    <tr>\n",
       "      <td>seema.A1007842</td>\n",
       "      <td>141</td>\n",
       "    </tr>\n",
       "    <tr>\n",
       "      <td>kajal.A1014301</td>\n",
       "      <td>143</td>\n",
       "    </tr>\n",
       "    <tr>\n",
       "      <td>nitanshu.A1006322</td>\n",
       "      <td>143</td>\n",
       "    </tr>\n",
       "    <tr>\n",
       "      <td>shivam.A1011517</td>\n",
       "      <td>143</td>\n",
       "    </tr>\n",
       "    <tr>\n",
       "      <td>jasmeet.A1016567</td>\n",
       "      <td>146</td>\n",
       "    </tr>\n",
       "    <tr>\n",
       "      <td>pranav.A1015782</td>\n",
       "      <td>146</td>\n",
       "    </tr>\n",
       "    <tr>\n",
       "      <td>sachin.A1016583</td>\n",
       "      <td>147</td>\n",
       "    </tr>\n",
       "    <tr>\n",
       "      <td>puneet.A1016939</td>\n",
       "      <td>148</td>\n",
       "    </tr>\n",
       "    <tr>\n",
       "      <td>ashish.A1014610</td>\n",
       "      <td>153</td>\n",
       "    </tr>\n",
       "    <tr>\n",
       "      <td>sandeep.A1003814</td>\n",
       "      <td>154</td>\n",
       "    </tr>\n",
       "    <tr>\n",
       "      <td>amit.A1004777</td>\n",
       "      <td>156</td>\n",
       "    </tr>\n",
       "    <tr>\n",
       "      <td>madhur.A1015741</td>\n",
       "      <td>156</td>\n",
       "    </tr>\n",
       "    <tr>\n",
       "      <td>shivani.A1015205</td>\n",
       "      <td>157</td>\n",
       "    </tr>\n",
       "  </tbody>\n",
       "</table>\n",
       "</div>"
      ],
      "text/plain": [
       "                   max\n",
       "Assigned_To           \n",
       "naveen.A1007643    132\n",
       "shubham.A1005192   134\n",
       "Rohit.A1003305     135\n",
       "durgesh.A1015969   136\n",
       "nikita.A1016907    137\n",
       "kshitij.A1006984   139\n",
       "Ankit.A1016417     141\n",
       "seema.A1007842     141\n",
       "kajal.A1014301     143\n",
       "nitanshu.A1006322  143\n",
       "shivam.A1011517    143\n",
       "jasmeet.A1016567   146\n",
       "pranav.A1015782    146\n",
       "sachin.A1016583    147\n",
       "puneet.A1016939    148\n",
       "ashish.A1014610    153\n",
       "sandeep.A1003814   154\n",
       "amit.A1004777      156\n",
       "madhur.A1015741    156\n",
       "shivani.A1015205   157"
      ]
     },
     "execution_count": 35,
     "metadata": {},
     "output_type": "execute_result"
    }
   ],
   "source": [
    "# Executive who have given late frt\n",
    "zdr.groupby('Assigned_To').FRT.agg(['max']).sort_values('max').tail(20)"
   ]
  },
  {
   "cell_type": "code",
   "execution_count": 36,
   "metadata": {},
   "outputs": [
    {
     "data": {
      "text/html": [
       "<div>\n",
       "<style scoped>\n",
       "    .dataframe tbody tr th:only-of-type {\n",
       "        vertical-align: middle;\n",
       "    }\n",
       "\n",
       "    .dataframe tbody tr th {\n",
       "        vertical-align: top;\n",
       "    }\n",
       "\n",
       "    .dataframe thead th {\n",
       "        text-align: right;\n",
       "    }\n",
       "</style>\n",
       "<table border=\"1\" class=\"dataframe\">\n",
       "  <thead>\n",
       "    <tr style=\"text-align: right;\">\n",
       "      <th></th>\n",
       "      <th>mean</th>\n",
       "    </tr>\n",
       "    <tr>\n",
       "      <th>Assigned_To</th>\n",
       "      <th></th>\n",
       "    </tr>\n",
       "  </thead>\n",
       "  <tbody>\n",
       "    <tr>\n",
       "      <td>Akshat.A1003211</td>\n",
       "      <td>30.125000</td>\n",
       "    </tr>\n",
       "    <tr>\n",
       "      <td>sachin.A1016583</td>\n",
       "      <td>31.608696</td>\n",
       "    </tr>\n",
       "    <tr>\n",
       "      <td>ashwani.A1016887</td>\n",
       "      <td>31.684211</td>\n",
       "    </tr>\n",
       "    <tr>\n",
       "      <td>ankush.A1007161</td>\n",
       "      <td>32.090909</td>\n",
       "    </tr>\n",
       "    <tr>\n",
       "      <td>nikita.A1016907</td>\n",
       "      <td>32.347222</td>\n",
       "    </tr>\n",
       "    <tr>\n",
       "      <td>manoj.A1010821</td>\n",
       "      <td>32.500000</td>\n",
       "    </tr>\n",
       "    <tr>\n",
       "      <td>jayant.A1010959</td>\n",
       "      <td>33.375000</td>\n",
       "    </tr>\n",
       "    <tr>\n",
       "      <td>ashish.A1014483</td>\n",
       "      <td>33.414634</td>\n",
       "    </tr>\n",
       "    <tr>\n",
       "      <td>shivam.A1011517</td>\n",
       "      <td>33.691176</td>\n",
       "    </tr>\n",
       "    <tr>\n",
       "      <td>shivani.A1015205</td>\n",
       "      <td>34.843750</td>\n",
       "    </tr>\n",
       "    <tr>\n",
       "      <td>sunil.A1011859</td>\n",
       "      <td>35.200000</td>\n",
       "    </tr>\n",
       "    <tr>\n",
       "      <td>vivek.jaiswal</td>\n",
       "      <td>37.000000</td>\n",
       "    </tr>\n",
       "    <tr>\n",
       "      <td>aniket.A1014044</td>\n",
       "      <td>38.285714</td>\n",
       "    </tr>\n",
       "    <tr>\n",
       "      <td>gitesh.A1007892</td>\n",
       "      <td>39.333333</td>\n",
       "    </tr>\n",
       "    <tr>\n",
       "      <td>sonam.A1007843</td>\n",
       "      <td>40.000000</td>\n",
       "    </tr>\n",
       "    <tr>\n",
       "      <td>madhur.A1015741</td>\n",
       "      <td>41.754717</td>\n",
       "    </tr>\n",
       "    <tr>\n",
       "      <td>prince.A1013769</td>\n",
       "      <td>44.000000</td>\n",
       "    </tr>\n",
       "    <tr>\n",
       "      <td>prashant.A1016439</td>\n",
       "      <td>51.000000</td>\n",
       "    </tr>\n",
       "    <tr>\n",
       "      <td>durgesh.A1015969</td>\n",
       "      <td>60.000000</td>\n",
       "    </tr>\n",
       "    <tr>\n",
       "      <td>tarun.A1010832</td>\n",
       "      <td>61.500000</td>\n",
       "    </tr>\n",
       "  </tbody>\n",
       "</table>\n",
       "</div>"
      ],
      "text/plain": [
       "                        mean\n",
       "Assigned_To                 \n",
       "Akshat.A1003211    30.125000\n",
       "sachin.A1016583    31.608696\n",
       "ashwani.A1016887   31.684211\n",
       "ankush.A1007161    32.090909\n",
       "nikita.A1016907    32.347222\n",
       "manoj.A1010821     32.500000\n",
       "jayant.A1010959    33.375000\n",
       "ashish.A1014483    33.414634\n",
       "shivam.A1011517    33.691176\n",
       "shivani.A1015205   34.843750\n",
       "sunil.A1011859     35.200000\n",
       "vivek.jaiswal      37.000000\n",
       "aniket.A1014044    38.285714\n",
       "gitesh.A1007892    39.333333\n",
       "sonam.A1007843     40.000000\n",
       "madhur.A1015741    41.754717\n",
       "prince.A1013769    44.000000\n",
       "prashant.A1016439  51.000000\n",
       "durgesh.A1015969   60.000000\n",
       "tarun.A1010832     61.500000"
      ]
     },
     "execution_count": 36,
     "metadata": {},
     "output_type": "execute_result"
    }
   ],
   "source": [
    "# Executive who have given lots of late frt, which makes their frt mean high \n",
    "zdr.groupby('Assigned_To').FRT.agg(['mean']).sort_values('mean').tail(20)"
   ]
  },
  {
   "cell_type": "markdown",
   "metadata": {},
   "source": [
    "#### 4. Executive who are not giving response in time to customers query"
   ]
  },
  {
   "cell_type": "code",
   "execution_count": 37,
   "metadata": {},
   "outputs": [
    {
     "data": {
      "text/html": [
       "<div>\n",
       "<style scoped>\n",
       "    .dataframe tbody tr th:only-of-type {\n",
       "        vertical-align: middle;\n",
       "    }\n",
       "\n",
       "    .dataframe tbody tr th {\n",
       "        vertical-align: top;\n",
       "    }\n",
       "\n",
       "    .dataframe thead th {\n",
       "        text-align: right;\n",
       "    }\n",
       "</style>\n",
       "<table border=\"1\" class=\"dataframe\">\n",
       "  <thead>\n",
       "    <tr style=\"text-align: right;\">\n",
       "      <th></th>\n",
       "      <th>mean</th>\n",
       "    </tr>\n",
       "    <tr>\n",
       "      <th>Assigned_To</th>\n",
       "      <th></th>\n",
       "    </tr>\n",
       "  </thead>\n",
       "  <tbody>\n",
       "    <tr>\n",
       "      <td>aniket.A1014044</td>\n",
       "      <td>0.142857</td>\n",
       "    </tr>\n",
       "    <tr>\n",
       "      <td>bharti.A1009821</td>\n",
       "      <td>0.187500</td>\n",
       "    </tr>\n",
       "    <tr>\n",
       "      <td>Saurabh.A1002882</td>\n",
       "      <td>0.200000</td>\n",
       "    </tr>\n",
       "    <tr>\n",
       "      <td>khalid.A1013953</td>\n",
       "      <td>0.291667</td>\n",
       "    </tr>\n",
       "    <tr>\n",
       "      <td>harmeen.A1011269</td>\n",
       "      <td>0.333333</td>\n",
       "    </tr>\n",
       "    <tr>\n",
       "      <td>vishnu.A1011617</td>\n",
       "      <td>0.375000</td>\n",
       "    </tr>\n",
       "    <tr>\n",
       "      <td>paras.A1013762</td>\n",
       "      <td>0.500000</td>\n",
       "    </tr>\n",
       "    <tr>\n",
       "      <td>tarun.A1010832</td>\n",
       "      <td>0.500000</td>\n",
       "    </tr>\n",
       "    <tr>\n",
       "      <td>sunil.A1011859</td>\n",
       "      <td>0.557143</td>\n",
       "    </tr>\n",
       "    <tr>\n",
       "      <td>gitesh.A1007892</td>\n",
       "      <td>0.671801</td>\n",
       "    </tr>\n",
       "    <tr>\n",
       "      <td>sourav.A1003139</td>\n",
       "      <td>0.705291</td>\n",
       "    </tr>\n",
       "    <tr>\n",
       "      <td>deepanshu.A1016891</td>\n",
       "      <td>0.739688</td>\n",
       "    </tr>\n",
       "    <tr>\n",
       "      <td>rajesh.A1003436</td>\n",
       "      <td>0.750000</td>\n",
       "    </tr>\n",
       "    <tr>\n",
       "      <td>sonam.A1007843</td>\n",
       "      <td>0.750000</td>\n",
       "    </tr>\n",
       "    <tr>\n",
       "      <td>trivendra.A1010756</td>\n",
       "      <td>0.750000</td>\n",
       "    </tr>\n",
       "    <tr>\n",
       "      <td>vivek.jaiswal</td>\n",
       "      <td>0.750000</td>\n",
       "    </tr>\n",
       "    <tr>\n",
       "      <td>puneet.A1016939</td>\n",
       "      <td>0.769217</td>\n",
       "    </tr>\n",
       "    <tr>\n",
       "      <td>shikha.A1014665</td>\n",
       "      <td>0.775000</td>\n",
       "    </tr>\n",
       "    <tr>\n",
       "      <td>shubham.A1005450</td>\n",
       "      <td>0.778215</td>\n",
       "    </tr>\n",
       "    <tr>\n",
       "      <td>himalaya.A1012358</td>\n",
       "      <td>0.800000</td>\n",
       "    </tr>\n",
       "  </tbody>\n",
       "</table>\n",
       "</div>"
      ],
      "text/plain": [
       "                        mean\n",
       "Assigned_To                 \n",
       "aniket.A1014044     0.142857\n",
       "bharti.A1009821     0.187500\n",
       "Saurabh.A1002882    0.200000\n",
       "khalid.A1013953     0.291667\n",
       "harmeen.A1011269    0.333333\n",
       "vishnu.A1011617     0.375000\n",
       "paras.A1013762      0.500000\n",
       "tarun.A1010832      0.500000\n",
       "sunil.A1011859      0.557143\n",
       "gitesh.A1007892     0.671801\n",
       "sourav.A1003139     0.705291\n",
       "deepanshu.A1016891  0.739688\n",
       "rajesh.A1003436     0.750000\n",
       "sonam.A1007843      0.750000\n",
       "trivendra.A1010756  0.750000\n",
       "vivek.jaiswal       0.750000\n",
       "puneet.A1016939     0.769217\n",
       "shikha.A1014665     0.775000\n",
       "shubham.A1005450    0.778215\n",
       "himalaya.A1012358   0.800000"
      ]
     },
     "execution_count": 37,
     "metadata": {},
     "output_type": "execute_result"
    }
   ],
   "source": [
    "# we are using groupby and agg funtion to get the result\n",
    "zdr.groupby('Assigned_To').IRS_Bifurcation.agg(['mean']).sort_values('mean').head(20)"
   ]
  },
  {
   "cell_type": "markdown",
   "metadata": {},
   "source": [
    "#### 5. Executives who are not following the protocols for last response "
   ]
  },
  {
   "cell_type": "code",
   "execution_count": 38,
   "metadata": {},
   "outputs": [
    {
     "data": {
      "text/html": [
       "<div>\n",
       "<style scoped>\n",
       "    .dataframe tbody tr th:only-of-type {\n",
       "        vertical-align: middle;\n",
       "    }\n",
       "\n",
       "    .dataframe tbody tr th {\n",
       "        vertical-align: top;\n",
       "    }\n",
       "\n",
       "    .dataframe thead th {\n",
       "        text-align: right;\n",
       "    }\n",
       "</style>\n",
       "<table border=\"1\" class=\"dataframe\">\n",
       "  <thead>\n",
       "    <tr style=\"text-align: right;\">\n",
       "      <th></th>\n",
       "      <th>mean</th>\n",
       "    </tr>\n",
       "    <tr>\n",
       "      <th>Assigned_To</th>\n",
       "      <th></th>\n",
       "    </tr>\n",
       "  </thead>\n",
       "  <tbody>\n",
       "    <tr>\n",
       "      <td>devendra.A1006825</td>\n",
       "      <td>1.571429</td>\n",
       "    </tr>\n",
       "    <tr>\n",
       "      <td>dolly.A1003888</td>\n",
       "      <td>1.571429</td>\n",
       "    </tr>\n",
       "    <tr>\n",
       "      <td>kajal.A1014301</td>\n",
       "      <td>1.760870</td>\n",
       "    </tr>\n",
       "    <tr>\n",
       "      <td>shivam.A1013788</td>\n",
       "      <td>1.815789</td>\n",
       "    </tr>\n",
       "    <tr>\n",
       "      <td>jatin.A1011437</td>\n",
       "      <td>1.883721</td>\n",
       "    </tr>\n",
       "    <tr>\n",
       "      <td>junaid.A1016702</td>\n",
       "      <td>2.000000</td>\n",
       "    </tr>\n",
       "    <tr>\n",
       "      <td>diwakar.A1007787</td>\n",
       "      <td>2.000000</td>\n",
       "    </tr>\n",
       "    <tr>\n",
       "      <td>ashish.A1009187</td>\n",
       "      <td>2.000000</td>\n",
       "    </tr>\n",
       "    <tr>\n",
       "      <td>bhawna.A1011045</td>\n",
       "      <td>2.000000</td>\n",
       "    </tr>\n",
       "    <tr>\n",
       "      <td>izhar.A1016127</td>\n",
       "      <td>2.394737</td>\n",
       "    </tr>\n",
       "    <tr>\n",
       "      <td>vishal.A1015686</td>\n",
       "      <td>2.500000</td>\n",
       "    </tr>\n",
       "    <tr>\n",
       "      <td>sunayana.A1009938</td>\n",
       "      <td>2.545455</td>\n",
       "    </tr>\n",
       "    <tr>\n",
       "      <td>swati.A1016383</td>\n",
       "      <td>2.720930</td>\n",
       "    </tr>\n",
       "    <tr>\n",
       "      <td>harsh.A1010425</td>\n",
       "      <td>3.000000</td>\n",
       "    </tr>\n",
       "    <tr>\n",
       "      <td>vivek.jaiswal</td>\n",
       "      <td>3.000000</td>\n",
       "    </tr>\n",
       "    <tr>\n",
       "      <td>mansi.A1016709</td>\n",
       "      <td>3.000000</td>\n",
       "    </tr>\n",
       "    <tr>\n",
       "      <td>vishesh.N1000068</td>\n",
       "      <td>3.080000</td>\n",
       "    </tr>\n",
       "    <tr>\n",
       "      <td>varun.A1011186</td>\n",
       "      <td>3.116883</td>\n",
       "    </tr>\n",
       "    <tr>\n",
       "      <td>vaishali.A1009941</td>\n",
       "      <td>3.262295</td>\n",
       "    </tr>\n",
       "    <tr>\n",
       "      <td>pooja.A1013766</td>\n",
       "      <td>3.294118</td>\n",
       "    </tr>\n",
       "  </tbody>\n",
       "</table>\n",
       "</div>"
      ],
      "text/plain": [
       "                       mean\n",
       "Assigned_To                \n",
       "devendra.A1006825  1.571429\n",
       "dolly.A1003888     1.571429\n",
       "kajal.A1014301     1.760870\n",
       "shivam.A1013788    1.815789\n",
       "jatin.A1011437     1.883721\n",
       "junaid.A1016702    2.000000\n",
       "diwakar.A1007787   2.000000\n",
       "ashish.A1009187    2.000000\n",
       "bhawna.A1011045    2.000000\n",
       "izhar.A1016127     2.394737\n",
       "vishal.A1015686    2.500000\n",
       "sunayana.A1009938  2.545455\n",
       "swati.A1016383     2.720930\n",
       "harsh.A1010425     3.000000\n",
       "vivek.jaiswal      3.000000\n",
       "mansi.A1016709     3.000000\n",
       "vishesh.N1000068   3.080000\n",
       "varun.A1011186     3.116883\n",
       "vaishali.A1009941  3.262295\n",
       "pooja.A1013766     3.294118"
      ]
     },
     "execution_count": 38,
     "metadata": {},
     "output_type": "execute_result"
    }
   ],
   "source": [
    "# executive whose last response is not as per the protocols\n",
    "zdr.groupby('Assigned_To').LRT.agg(['mean']).sort_values('mean').head(20)"
   ]
  },
  {
   "cell_type": "markdown",
   "metadata": {},
   "source": [
    "#### 6. Executives who are not entertaining the customers query seriously"
   ]
  },
  {
   "cell_type": "code",
   "execution_count": 39,
   "metadata": {},
   "outputs": [],
   "source": [
    "# total number of CSAT received by the executives\n",
    "csat_per_executive = zdr[zdr.CSAT_DSAT=='CSAT'].Assigned_To.value_counts()"
   ]
  },
  {
   "cell_type": "code",
   "execution_count": 40,
   "metadata": {},
   "outputs": [],
   "source": [
    "# total number of CSAT received by the executives\n",
    "dsat_per_executive = zdr[zdr.CSAT_DSAT=='DSAT'].Assigned_To.value_counts()"
   ]
  },
  {
   "cell_type": "code",
   "execution_count": 41,
   "metadata": {},
   "outputs": [
    {
     "data": {
      "text/plain": [
       "shivam.A1014348      0.210526\n",
       "jitendra.A1012083    0.333333\n",
       "gitesh.A1007892      0.333333\n",
       "madhur.A1015741      0.529412\n",
       "durgesh.A1015969     0.666667\n",
       "yeshvi.A1016446      0.733333\n",
       "sachin.A1016583      0.769231\n",
       "vanshika.A1016923    0.777778\n",
       "asim.A1013904        0.818182\n",
       "ashish.A1014483      0.833333\n",
       "ankita.A1015959      0.866667\n",
       "pranav.A1015782      0.875000\n",
       "nitish.A1016496      0.933333\n",
       "gurleen.A1015736     1.000000\n",
       "pooja.A1013766       1.000000\n",
       "latika.raj           1.000000\n",
       "jahanvi.A1013582     1.000000\n",
       "jagdish.A1009427     1.000000\n",
       "prashant.A1016439    1.000000\n",
       "marshal.A1016365     1.000000\n",
       "Name: Assigned_To, dtype: float64"
      ]
     },
     "execution_count": 41,
     "metadata": {},
     "output_type": "execute_result"
    }
   ],
   "source": [
    "# normalized value of CSAT and DSAT received by the executives\n",
    "(csat_per_executive/dsat_per_executive).sort_values().dropna().head(20)"
   ]
  },
  {
   "cell_type": "markdown",
   "metadata": {},
   "source": [
    "#### 7. Some insights of resolution tags"
   ]
  },
  {
   "cell_type": "code",
   "execution_count": 42,
   "metadata": {},
   "outputs": [
    {
     "data": {
      "text/plain": [
       "No Label                      0.651853\n",
       "General Queries               0.139960\n",
       "Repeat                        0.097508\n",
       "Groceries India               0.063584\n",
       "Food not delivered            0.029091\n",
       "call back support india       0.003601\n",
       "Merchant Unresponsive         0.003222\n",
       "Thank you                     0.002938\n",
       "COD Query                     0.001516\n",
       "L2 Query                      0.001137\n",
       "                                ...   \n",
       "Wrong Merchant Number         0.000284\n",
       "Gold - Promo-related Query    0.000284\n",
       "COD Unavailable               0.000190\n",
       "TR No Query                   0.000190\n",
       "ID General Pricing            0.000095\n",
       "Corona Virus Queries          0.000095\n",
       "TR Cancellation               0.000095\n",
       "Gold - No Query               0.000095\n",
       "ID Payment Failure            0.000095\n",
       "Gold - PG Failure             0.000095\n",
       "Name: Resolution_Tag, Length: 27, dtype: float64"
      ]
     },
     "execution_count": 42,
     "metadata": {},
     "output_type": "execute_result"
    }
   ],
   "source": [
    "# zdr.groupby('Resolution_Tag').size() \n",
    "# alternative method for analysis\n",
    "zdr.Resolution_Tag.value_counts(normalize=True)"
   ]
  },
  {
   "cell_type": "markdown",
   "metadata": {},
   "source": [
    "#### 8. Taking dig into the resolved and hold column"
   ]
  },
  {
   "cell_type": "code",
   "execution_count": 43,
   "metadata": {},
   "outputs": [],
   "source": [
    "# creating a column which will hold the values in bool\n",
    "zdr['Resolve_Hold1'] = np.where(zdr['Resolve_Hold']!= 'Resolve', False, True)"
   ]
  },
  {
   "cell_type": "code",
   "execution_count": 44,
   "metadata": {},
   "outputs": [
    {
     "data": {
      "text/plain": [
       "True     0.995362\n",
       "False    0.004638\n",
       "Name: Resolve_Hold1, dtype: float64"
      ]
     },
     "execution_count": 44,
     "metadata": {},
     "output_type": "execute_result"
    }
   ],
   "source": [
    "# normalized values of resolved and hold chats\n",
    "zdr.Resolve_Hold1.value_counts(normalize=True)"
   ]
  },
  {
   "cell_type": "code",
   "execution_count": 45,
   "metadata": {},
   "outputs": [],
   "source": [
    "# as we won't need this column in further analysis\n",
    "zdr.drop(['Resolve_Hold1'], axis=1, inplace=True)"
   ]
  },
  {
   "cell_type": "markdown",
   "metadata": {},
   "source": [
    "#### 9. How many executives are not putting up the customer's concern tags "
   ]
  },
  {
   "cell_type": "code",
   "execution_count": 46,
   "metadata": {},
   "outputs": [
    {
     "data": {
      "text/plain": [
       "True     0.829437\n",
       "False    0.170563\n",
       "Name: Cx_Issues_Tag, dtype: float64"
      ]
     },
     "execution_count": 46,
     "metadata": {},
     "output_type": "execute_result"
    }
   ],
   "source": [
    "zdr.Cx_Issues_Tag.value_counts(normalize=True)"
   ]
  },
  {
   "cell_type": "markdown",
   "metadata": {},
   "source": [
    "#### 10. Number of issues raised by customer for food vs grocery"
   ]
  },
  {
   "cell_type": "code",
   "execution_count": 47,
   "metadata": {},
   "outputs": [
    {
     "data": {
      "text/plain": [
       "Chat_Type\n",
       "Food        9854\n",
       "Grocery      668\n",
       "UberEats       4\n",
       "callback      39\n",
       "dtype: int64"
      ]
     },
     "execution_count": 47,
     "metadata": {},
     "output_type": "execute_result"
    }
   ],
   "source": [
    "zdr.groupby(by='Chat_Type').size()"
   ]
  },
  {
   "cell_type": "markdown",
   "metadata": {},
   "source": [
    "#### 11. Country from where the customers are raising the issue"
   ]
  },
  {
   "cell_type": "code",
   "execution_count": 48,
   "metadata": {},
   "outputs": [
    {
     "data": {
      "text/plain": [
       "Country\n",
       "India      7872\n",
       "Lebanon     158\n",
       "UAE        2535\n",
       "dtype: int64"
      ]
     },
     "execution_count": 48,
     "metadata": {},
     "output_type": "execute_result"
    }
   ],
   "source": [
    "zdr.groupby('Country').size()"
   ]
  }
 ],
 "metadata": {
  "kernelspec": {
   "display_name": "Python 3",
   "language": "python",
   "name": "python3"
  },
  "language_info": {
   "codemirror_mode": {
    "name": "ipython",
    "version": 3
   },
   "file_extension": ".py",
   "mimetype": "text/x-python",
   "name": "python",
   "nbconvert_exporter": "python",
   "pygments_lexer": "ipython3",
   "version": "3.7.4"
  }
 },
 "nbformat": 4,
 "nbformat_minor": 2
}
